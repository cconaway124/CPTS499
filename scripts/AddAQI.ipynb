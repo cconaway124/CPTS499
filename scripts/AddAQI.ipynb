{
 "cells": [
  {
   "cell_type": "markdown",
   "metadata": {},
   "source": [
    "# Add AQI to data\n",
    "\n",
    "This code will take a pandas df and return it with a new column added on, which is the AQI for the location and time the person was in that area."
   ]
  },
  {
   "cell_type": "code",
   "execution_count": 5,
   "metadata": {},
   "outputs": [
    {
     "name": "stdout",
     "output_type": "stream",
     "text": [
      "Requirement already satisfied: requests in c:\\users\\admin\\appdata\\local\\packages\\pythonsoftwarefoundation.python.3.9_qbz5n2kfra8p0\\localcache\\local-packages\\python39\\site-packages (2.27.1)\n",
      "Requirement already satisfied: certifi>=2017.4.17 in c:\\users\\admin\\appdata\\local\\packages\\pythonsoftwarefoundation.python.3.9_qbz5n2kfra8p0\\localcache\\local-packages\\python39\\site-packages (from requests) (2021.10.8)\n",
      "Requirement already satisfied: urllib3<1.27,>=1.21.1 in c:\\users\\admin\\appdata\\local\\packages\\pythonsoftwarefoundation.python.3.9_qbz5n2kfra8p0\\localcache\\local-packages\\python39\\site-packages (from requests) (1.26.9)\n",
      "Requirement already satisfied: charset-normalizer~=2.0.0 in c:\\users\\admin\\appdata\\local\\packages\\pythonsoftwarefoundation.python.3.9_qbz5n2kfra8p0\\localcache\\local-packages\\python39\\site-packages (from requests) (2.0.12)\n",
      "Requirement already satisfied: idna<4,>=2.5 in c:\\users\\admin\\appdata\\local\\packages\\pythonsoftwarefoundation.python.3.9_qbz5n2kfra8p0\\localcache\\local-packages\\python39\\site-packages (from requests) (3.3)\n",
      "Note: you may need to restart the kernel to use updated packages.\n"
     ]
    },
    {
     "name": "stderr",
     "output_type": "stream",
     "text": [
      "\n",
      "[notice] A new release of pip is available: 23.0.1 -> 23.3.1\n",
      "[notice] To update, run: C:\\Users\\Admin\\AppData\\Local\\Microsoft\\WindowsApps\\PythonSoftwareFoundation.Python.3.9_qbz5n2kfra8p0\\python.exe -m pip install --upgrade pip\n"
     ]
    }
   ],
   "source": [
    "# install HTTP requests package\n",
    "%pip install requests"
   ]
  },
  {
   "cell_type": "code",
   "execution_count": 8,
   "metadata": {},
   "outputs": [],
   "source": [
    "# imports\n",
    "import pandas as pd\n",
    "import numpy as np\n",
    "import datetime as dt\n",
    "import requests as req\n",
    "import matplotlib as plt\n",
    "import json"
   ]
  },
  {
   "cell_type": "code",
   "execution_count": 24,
   "metadata": {},
   "outputs": [
    {
     "name": "stderr",
     "output_type": "stream",
     "text": [
      "C:\\Users\\Admin\\AppData\\Local\\Temp\\ipykernel_22384\\1515613150.py:3: DtypeWarning: Columns (1,2,3,4,5,6,7,8,9,10,11,12,13,14,15,16,18) have mixed types. Specify dtype option on import or set low_memory=False.\n",
      "  csv_data = pd.read_csv('../gsur23013.csv', nrows=1000000)\n"
     ]
    },
    {
     "name": "stdout",
     "output_type": "stream",
     "text": [
      "                        stamp                   yaw                  pitch  \\\n",
      "0                          dt                     f                      f   \n",
      "1  2023-08-28 11:47:13.245118  -0.03333548083901405    0.04052065312862396   \n",
      "2  2023-08-28 11:47:13.345289   0.16603389382362366    0.05179822817444801   \n",
      "3  2023-08-28 11:47:13.445459    0.9113951325416565   -0.03785695880651474   \n",
      "4  2023-08-28 11:47:13.545630    0.9109325408935547  -0.024698100984096527   \n",
      "5  2023-08-28 11:47:13.645800    0.9108432531356812   -0.02027300000190735   \n",
      "6  2023-08-28 11:47:13.745970    0.9107893705368042  -0.018194498494267464   \n",
      "7  2023-08-28 11:47:13.846141    0.9107804298400879  -0.016942808404564857   \n",
      "8  2023-08-28 11:47:13.946312    0.9107078909873962  -0.016078751534223557   \n",
      "9  2023-08-28 11:47:14.046482    0.9107396602630615  -0.015434675849974155   \n",
      "\n",
      "                   roll        rotation_rate_x         rotation_rate_y  \\\n",
      "0                     f                      f                       f   \n",
      "1    1.3767913579940796  0.0005301761557348073    0.000567486509680748   \n",
      "2   -0.9229972958564758    -0.0021013377700001   -0.001292065717279911   \n",
      "3   0.04180726781487465  -0.001990565098822117  -0.0006158407777547836   \n",
      "4   0.02626134268939495    0.00256392196752131   0.0004664212465286255   \n",
      "5   0.02111574448645115  0.0014881958486512303   0.0020504104904830456   \n",
      "6   0.01853240095078945  0.0035959722008556128    0.004182370379567146   \n",
      "7   0.01712937466800213   0.002520447364076972    0.002086672931909561   \n",
      "8   0.01607522740960121  0.0006988223176449537   0.0006146254017949104   \n",
      "9  0.015342853963375092  0.0038694804534316063   0.0014042677357792854   \n",
      "\n",
      "          rotation_rate_z     user_acceleration_x     user_acceleration_y  \\\n",
      "0                       f                       f                       f   \n",
      "1   0.0034583131782710552     -0.9697076082229614     0.05326591059565544   \n",
      "2  -7.598218508064747e-05      0.8065219521522522     0.06456193327903748   \n",
      "3   0.0010761541780084372    -0.03099244087934494   -0.025427255779504776   \n",
      "4    0.001711997902020812   -0.015889601781964302   -0.014380641281604767   \n",
      "5  -0.0007056327303871512   -0.010779639706015587   -0.008125608786940575   \n",
      "6   0.0005675023421645164   -0.008198074996471405   -0.004460576921701431   \n",
      "7  0.00015626568347215652  -0.0043544769287109375  -0.0046891868114471436   \n",
      "8  -0.0011502776760607958   -0.005681224167346954   -0.003535328432917595   \n",
      "9  -0.0017840615473687649   -0.004720310680568218  -0.0029676249250769615   \n",
      "\n",
      "     user_acceleration_z latitude longitude altitude course speed  \\\n",
      "0                      f        f         f        f      f     f   \n",
      "1    -0.8035379648208618      NaN       NaN      NaN    NaN   NaN   \n",
      "2   -0.39383649826049805      NaN       NaN      NaN    NaN   NaN   \n",
      "3   0.001904606819152832      NaN       NaN      NaN    NaN   NaN   \n",
      "4   0.003470182418823242      NaN       NaN      NaN    NaN   NaN   \n",
      "5  0.0020893216133117676      NaN       NaN      NaN    NaN   NaN   \n",
      "6   0.004789769649505615      NaN       NaN      NaN    NaN   NaN   \n",
      "7  0.0034482479095458984      NaN       NaN      NaN    NaN   NaN   \n",
      "8  0.0032358169555664062      NaN       NaN      NaN    NaN   NaN   \n",
      "9   0.001868903636932373      NaN       NaN      NaN    NaN   NaN   \n",
      "\n",
      "  horizontal_accuracy vertical_accuracy battery_state user_activity_label  \n",
      "0                   f                 f             s                   s  \n",
      "1                 NaN               NaN     unplugged                 NaN  \n",
      "2                 NaN               NaN     unplugged                 NaN  \n",
      "3                 NaN               NaN     unplugged                 NaN  \n",
      "4                 NaN               NaN     unplugged                 NaN  \n",
      "5                 NaN               NaN     unplugged                 NaN  \n",
      "6                 NaN               NaN     unplugged                 NaN  \n",
      "7                 NaN               NaN     unplugged                 NaN  \n",
      "8                 NaN               NaN     unplugged                 NaN  \n",
      "9                 NaN               NaN     unplugged                 NaN  \n"
     ]
    }
   ],
   "source": [
    "# load the 100,000 lines of my csv into a df (don't need that many for testing the script)\n",
    "# show the first 10 rows, and the columns and their types\n",
    "csv_data = pd.read_csv('../gsur23013.csv', nrows=1000000)\n",
    "[(x, y) for (x, y) in zip(csv_data.columns, csv_data.dtypes)]\n",
    "print(csv_data.head(10))"
   ]
  },
  {
   "cell_type": "code",
   "execution_count": 23,
   "metadata": {},
   "outputs": [],
   "source": [
    "# Takes the given date and location and returns an AQI for that date and location. The AQI measure is *mainly* used with PM 2.5\n",
    "# params\n",
    "#   date: the date to retrieve the AQI for\n",
    "#   latitude: the float representation of the latitude\n",
    "#   longitude: the float representation of the longitude.\n",
    "# returns\n",
    "#   The AQI as a float\n",
    "# Throws\n",
    "#   Raises an HTTP Error if the request failed.\n",
    "def GetAqi(date: dt.datetime, latitude: float, longitude: float) -> float:\n",
    "    # this is the link to the historical API for AQI\n",
    "    url = \"https://www.airnowapi.org/aq/observation/latLong/historical?api_key={}&latitude={}&longitude={}&format=application/json&date={}T00-0000\"\n",
    "    \n",
    "    # the api_key is stored in a config.json file, and kept off the github to avoid public exposure of your api_key for AirNow\n",
    "    api_key = \"\"\n",
    "    with open(\"../config.json\", \"r\") as f:\n",
    "        api_key = json.load(f)[\"api_key\"]\n",
    "    \n",
    "    # formats the url with the right data, and sends it to AirNow\n",
    "    response = req.get(url.format(api_key, latitude, longitude, date))\n",
    "    \n",
    "    # if the response is okay, it returns the AQI, if not, it raises an HTTP error\n",
    "    if response.ok:\n",
    "        return json.loads(response.json[\"AQI\"])\n",
    "    else:\n",
    "        response.raise_for_status()\n",
    "\n",
    "# definition\n",
    "# params\n",
    "# returns\n",
    "# throws\n",
    "def AddAQI(df: pd.DataFrame) -> pd.DataFrame:\n",
    "    unique_dates = \"\""
   ]
  }
 ],
 "metadata": {
  "kernelspec": {
   "display_name": "Python 3",
   "language": "python",
   "name": "python3"
  },
  "language_info": {
   "codemirror_mode": {
    "name": "ipython",
    "version": 3
   },
   "file_extension": ".py",
   "mimetype": "text/x-python",
   "name": "python",
   "nbconvert_exporter": "python",
   "pygments_lexer": "ipython3",
   "version": "3.9.13"
  },
  "orig_nbformat": 4
 },
 "nbformat": 4,
 "nbformat_minor": 2
}
