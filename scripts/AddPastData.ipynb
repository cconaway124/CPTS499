{
 "cells": [
  {
   "cell_type": "markdown",
   "metadata": {},
   "source": [
    "# CPTS 499\n",
    "\n",
    "## Adding on past data to the dataframe (NO2, Ozone, Lead, CO, SO2, and some others)"
   ]
  },
  {
   "cell_type": "code",
   "execution_count": 2,
   "metadata": {},
   "outputs": [],
   "source": [
    "# imports\n",
    "import pandas as pd\n",
    "import datetime as dt\n",
    "import requests as req\n",
    "import json\n",
    "import math\n",
    "from collections import Counter as ct"
   ]
  },
  {
   "cell_type": "code",
   "execution_count": 13,
   "metadata": {},
   "outputs": [],
   "source": [
    "# constants\n",
    "DATE_FORMAT = \"%Y-%m-%d\"\n",
    "PATH_TO_CSV = \"../gsur23013.csv\"\n",
    "AQS_DATA = {}\n",
    "with open(\"../config.json\", \"r\") as f:\n",
    "        AQS_DATA = json.load(f)[\"aqs_data\"]\n"
   ]
  },
  {
   "cell_type": "code",
   "execution_count": 12,
   "metadata": {},
   "outputs": [
    {
     "name": "stderr",
     "output_type": "stream",
     "text": [
      "C:\\Users\\Admin\\AppData\\Local\\Temp\\ipykernel_13096\\4100932290.py:2: DtypeWarning: Columns (18) have mixed types. Specify dtype option on import or set low_memory=False.\n",
      "  csv_data = pd.read_csv(PATH_TO_CSV, nrows=400000, skiprows=[1])\n"
     ]
    },
    {
     "name": "stdout",
     "output_type": "stream",
     "text": [
      "stamp                  datetime64[ns]\n",
      "yaw                           float64\n",
      "pitch                         float64\n",
      "roll                          float64\n",
      "rotation_rate_x               float64\n",
      "rotation_rate_y               float64\n",
      "rotation_rate_z               float64\n",
      "user_acceleration_x           float64\n",
      "user_acceleration_y           float64\n",
      "user_acceleration_z           float64\n",
      "latitude                      float64\n",
      "longitude                     float64\n",
      "altitude                      float64\n",
      "course                        float64\n",
      "speed                         float64\n",
      "horizontal_accuracy           float64\n",
      "vertical_accuracy             float64\n",
      "battery_state                  object\n",
      "user_activity_label            object\n",
      "dtype: object\n"
     ]
    }
   ],
   "source": [
    "# load the csv and anything else\n",
    "csv_data = pd.read_csv(PATH_TO_CSV, nrows=400000, skiprows=[1])\n",
    "\n",
    "# change stamp column to datetime object\n",
    "\n",
    "# Strip the date from a string\n",
    "# params\n",
    "#   date: the str representation of the date\n",
    "# returns\n",
    "#   a datetime object\n",
    "def GetDate(date: str) -> dt.datetime:\n",
    "    day = str.split(date, \" \")[0]\n",
    "        \n",
    "    # strip out the datetime object .\n",
    "    date = dt.datetime.strptime(day, DATE_FORMAT)\n",
    "    return date\n",
    "\n",
    "# Applies the GetDate function to the entire given series\n",
    "# params\n",
    "#   date: the series to apply the date to\n",
    "# returns\n",
    "#   the changed date column\n",
    "def GetDateSeries(date: pd.Series) -> pd.Series:\n",
    "    return date.apply(GetDate)\n",
    "\n",
    "# change date column to just the day\n",
    "csv_data[\"stamp\"] = GetDateSeries(csv_data[\"stamp\"])\n",
    "\n",
    "csv_data.head(10)\n",
    "print(csv_data.dtypes)"
   ]
  },
  {
   "cell_type": "code",
   "execution_count": null,
   "metadata": {},
   "outputs": [],
   "source": [
    "def GetAirData(start_date: dt.datetime, end_date: dt.datetime, email: str, key: int, params = [42101]):\n",
    "    pass"
   ]
  }
 ],
 "metadata": {
  "kernelspec": {
   "display_name": "Python 3",
   "language": "python",
   "name": "python3"
  },
  "language_info": {
   "codemirror_mode": {
    "name": "ipython",
    "version": 3
   },
   "file_extension": ".py",
   "mimetype": "text/x-python",
   "name": "python",
   "nbconvert_exporter": "python",
   "pygments_lexer": "ipython3",
   "version": "3.9.13"
  }
 },
 "nbformat": 4,
 "nbformat_minor": 2
}
